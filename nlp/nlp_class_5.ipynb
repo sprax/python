{
 "cells": [
  {
   "cell_type": "code",
   "execution_count": 1,
   "metadata": {},
   "outputs": [
    {
     "data": {
      "text/plain": [
       "'More TFIDF:  term-frequency times inverse document frequency'"
      ]
     },
     "execution_count": 1,
     "metadata": {},
     "output_type": "execute_result"
    }
   ],
   "source": [
    "## Import libraries for these exercises\n",
    "%matplotlib inline\n",
    "from sklearn.feature_extraction import stop_words\n",
    "from sklearn.linear_model import LogisticRegression\n",
    "from sklearn.model_selection import train_test_split\n",
    "from sklearn.metrics import classification_report, accuracy_score, recall_score, confusion_matrix\n",
    "import pandas as pd\n",
    "from tokenize_resumes import *\n",
    "from sklearn.feature_extraction.text import TfidfVectorizer\n",
    "import numpy as np\n",
    "'''More TFIDF:  term-frequency times inverse document frequency'''"
   ]
  },
  {
   "cell_type": "code",
   "execution_count": 2,
   "metadata": {
    "collapsed": true
   },
   "outputs": [],
   "source": [
    "## Define a method to compare two resumes (for utility purposes)\n",
    "\n",
    "def compare_resumes(res1, res2):\n",
    "    resvec1 = vectorizer.transform([res1])\n",
    "    resvec2 = vectorizer.transform([res2])\n",
    "    return cosine_similarity(resvec1, resvec2)"
   ]
  },
  {
   "cell_type": "code",
   "execution_count": 3,
   "metadata": {},
   "outputs": [
    {
     "name": "stdout",
     "output_type": "stream",
     "text": [
      "train and test sizes: 750 & 250\n"
     ]
    }
   ],
   "source": [
    "resume_dataset = get_resume_dataset()\n",
    "train, test = train_test_split(resume_dataset)\n",
    "print(\"train and test sizes: %d & %d\" % (len(train), len(test)))"
   ]
  },
  {
   "cell_type": "code",
   "execution_count": 4,
   "metadata": {
    "collapsed": true
   },
   "outputs": [],
   "source": [
    "## Initialize sklearn vectorizer object\n",
    "vectorizer = TfidfVectorizer(use_idf=True)\n",
    "\n",
    "## Fit the vectorizer and get the training vectors\n",
    "train_vectors = vectorizer.fit_transform(train.resumes)\n",
    "\n",
    "\n",
    "## Get the test set vectors (No fit!)\n",
    "test_vectors = vectorizer.transform(test.resumes)\n"
   ]
  },
  {
   "cell_type": "code",
   "execution_count": 5,
   "metadata": {},
   "outputs": [
    {
     "data": {
      "text/plain": [
       "'Think of recall as search effectivness -- you do not want to miss true positives.'"
      ]
     },
     "execution_count": 5,
     "metadata": {},
     "output_type": "execute_result"
    }
   ],
   "source": [
    "## Initialize the logistic regression object\n",
    "logit = LogisticRegression()\n",
    "\n",
    "\n",
    "## Train the logistic regression model!\n",
    "\n",
    "logit.fit(train_vectors, train.position)\n",
    "'''Think of recall as search effectivness -- you do not want to miss true positives.'''"
   ]
  },
  {
   "cell_type": "code",
   "execution_count": 6,
   "metadata": {},
   "outputs": [
    {
     "name": "stdout",
     "output_type": "stream",
     "text": [
      "                          precision    recall  f1-score   support\n",
      "\n",
      "business development rep       0.70      0.70      0.70        60\n",
      "        inside sales rep       0.72      0.76      0.74        51\n",
      "     marketing associate       0.97      0.86      0.91        72\n",
      "       software engineer       0.92      0.99      0.95        67\n",
      "\n",
      "             avg / total       0.84      0.84      0.84       250\n",
      "\n"
     ]
    }
   ],
   "source": [
    "print(classification_report(test.position, logit.predict(test_vectors)))"
   ]
  },
  {
   "cell_type": "code",
   "execution_count": 7,
   "metadata": {},
   "outputs": [
    {
     "data": {
      "text/plain": [
       "array([[42, 14,  1,  3],\n",
       "       [11, 39,  1,  0],\n",
       "       [ 6,  1, 62,  3],\n",
       "       [ 1,  0,  0, 66]])"
      ]
     },
     "execution_count": 7,
     "metadata": {},
     "output_type": "execute_result"
    }
   ],
   "source": [
    "confusion_matrix(test.position, logit.predict(test_vectors))"
   ]
  },
  {
   "cell_type": "code",
   "execution_count": 8,
   "metadata": {},
   "outputs": [
    {
     "data": {
      "text/plain": [
       "array([[ 0.7       ,  0.2745098 ,  0.01388889,  0.04477612],\n",
       "       [ 0.18333333,  0.76470588,  0.01388889,  0.        ],\n",
       "       [ 0.1       ,  0.01960784,  0.86111111,  0.04477612],\n",
       "       [ 0.01666667,  0.        ,  0.        ,  0.98507463]])"
      ]
     },
     "execution_count": 8,
     "metadata": {},
     "output_type": "execute_result"
    }
   ],
   "source": [
    "confusion_matrix(test.position, logit.predict(test_vectors))/confusion_matrix(test.position, logit.predict(test_vectors)).sum(axis=1)"
   ]
  },
  {
   "cell_type": "code",
   "execution_count": 9,
   "metadata": {},
   "outputs": [
    {
     "data": {
      "text/plain": [
       "0.85199999999999998"
      ]
     },
     "execution_count": 9,
     "metadata": {},
     "output_type": "execute_result"
    }
   ],
   "source": [
    "accuracy_score(test.position, logit.predict(test_vectors))"
   ]
  },
  {
   "cell_type": "code",
   "execution_count": 10,
   "metadata": {},
   "outputs": [
    {
     "data": {
      "text/plain": [
       "0.85199999999999998"
      ]
     },
     "execution_count": 10,
     "metadata": {},
     "output_type": "execute_result"
    }
   ],
   "source": [
    "recall_score(test.position, logit.predict(test_vectors), average='micro')\n"
   ]
  },
  {
   "cell_type": "code",
   "execution_count": 11,
   "metadata": {
    "collapsed": true
   },
   "outputs": [],
   "source": [
    "?confusion_matrix"
   ]
  },
  {
   "cell_type": "code",
   "execution_count": null,
   "metadata": {
    "collapsed": true
   },
   "outputs": [],
   "source": []
  },
  {
   "cell_type": "code",
   "execution_count": null,
   "metadata": {
    "collapsed": true
   },
   "outputs": [],
   "source": []
  }
 ],
 "metadata": {
  "kernelspec": {
   "display_name": "Python 2",
   "language": "python",
   "name": "python2"
  },
  "language_info": {
   "codemirror_mode": {
    "name": "ipython",
    "version": 2
   },
   "file_extension": ".py",
   "mimetype": "text/x-python",
   "name": "python",
   "nbconvert_exporter": "python",
   "pygments_lexer": "ipython2",
   "version": "2.7.15"
  }
 },
 "nbformat": 4,
 "nbformat_minor": 2
}
